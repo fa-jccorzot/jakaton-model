{
 "cells": [
  {
   "cell_type": "code",
   "execution_count": 1,
   "id": "7d3d21b5",
   "metadata": {},
   "outputs": [],
   "source": [
    "# Import libraries\n",
    "import pandas as pd\n",
    "from surprise import prediction_algorithms, Reader, Dataset, accuracy, SVD\n",
    "from surprise.model_selection import train_test_split\n",
    "from surprise.model_selection import GridSearchCV"
   ]
  },
  {
   "cell_type": "code",
   "execution_count": 2,
   "id": "97a5afbd",
   "metadata": {},
   "outputs": [],
   "source": [
    "# import CSV\n",
    "df_combined = pd.read_csv('combined.csv', encoding='latin-1', low_memory=False)"
   ]
  },
  {
   "cell_type": "code",
   "execution_count": 3,
   "id": "8818671a",
   "metadata": {},
   "outputs": [],
   "source": [
    "# Filtering NaN from item_id column and removing event_name from event_name column\n",
    "df_combined_filtered = df_combined.drop(df_combined[df_combined.item_id.isnull()].index)\n",
    "df_combined_filtered = df_combined_filtered.drop(df_combined_filtered[df_combined_filtered.event_name == \"event_name\"].index)"
   ]
  },
  {
   "cell_type": "code",
   "execution_count": 4,
   "id": "6354b44a",
   "metadata": {},
   "outputs": [],
   "source": [
    "# Replacing events by assigned weight\n",
    "df_combined_filtered = df_combined_filtered.replace('view_item', 1)\n",
    "df_combined_filtered = df_combined_filtered.replace('add_to_cart', 2)\n",
    "df_combined_filtered = df_combined_filtered.replace('purchase', 3)"
   ]
  },
  {
   "cell_type": "code",
   "execution_count": 5,
   "id": "ff87806d",
   "metadata": {},
   "outputs": [
    {
     "data": {
      "text/html": [
       "<div>\n",
       "<style scoped>\n",
       "    .dataframe tbody tr th:only-of-type {\n",
       "        vertical-align: middle;\n",
       "    }\n",
       "\n",
       "    .dataframe tbody tr th {\n",
       "        vertical-align: top;\n",
       "    }\n",
       "\n",
       "    .dataframe thead th {\n",
       "        text-align: right;\n",
       "    }\n",
       "</style>\n",
       "<table border=\"1\" class=\"dataframe\">\n",
       "  <thead>\n",
       "    <tr style=\"text-align: right;\">\n",
       "      <th></th>\n",
       "      <th>user_id</th>\n",
       "      <th>item_id</th>\n",
       "      <th>event_name</th>\n",
       "    </tr>\n",
       "  </thead>\n",
       "  <tbody>\n",
       "    <tr>\n",
       "      <th>0</th>\n",
       "      <td>02FE33EE8FA641E8B0510FAAA737D927</td>\n",
       "      <td>505e396a-f4a0-46be-911f-809d29d7d3d6</td>\n",
       "      <td>2</td>\n",
       "    </tr>\n",
       "    <tr>\n",
       "      <th>1</th>\n",
       "      <td>1D9B56EB0D5347C586799CAC48397B5E</td>\n",
       "      <td>5459ae0d-ae4f-49fa-bd03-4a101f02b6a3</td>\n",
       "      <td>1</td>\n",
       "    </tr>\n",
       "    <tr>\n",
       "      <th>2</th>\n",
       "      <td>E8AE92144FB94FBA91C99DE513C6F910</td>\n",
       "      <td>494bc0b7-de10-428a-94f1-8a0da5161774</td>\n",
       "      <td>1</td>\n",
       "    </tr>\n",
       "    <tr>\n",
       "      <th>3</th>\n",
       "      <td>7F35FA4501F34494A9EC6B5BD77368F8</td>\n",
       "      <td>15adc2b9-0e7c-439b-a265-3f7ae703a82d</td>\n",
       "      <td>1</td>\n",
       "    </tr>\n",
       "    <tr>\n",
       "      <th>4</th>\n",
       "      <td>BA9567962ABE41EDBC7A7FF9476C80FB</td>\n",
       "      <td>00d0a735-79ad-4dad-b8f5-88e305f444c2</td>\n",
       "      <td>2</td>\n",
       "    </tr>\n",
       "  </tbody>\n",
       "</table>\n",
       "</div>"
      ],
      "text/plain": [
       "                            user_id                               item_id  \\\n",
       "0  02FE33EE8FA641E8B0510FAAA737D927  505e396a-f4a0-46be-911f-809d29d7d3d6   \n",
       "1  1D9B56EB0D5347C586799CAC48397B5E  5459ae0d-ae4f-49fa-bd03-4a101f02b6a3   \n",
       "2  E8AE92144FB94FBA91C99DE513C6F910  494bc0b7-de10-428a-94f1-8a0da5161774   \n",
       "3  7F35FA4501F34494A9EC6B5BD77368F8  15adc2b9-0e7c-439b-a265-3f7ae703a82d   \n",
       "4  BA9567962ABE41EDBC7A7FF9476C80FB  00d0a735-79ad-4dad-b8f5-88e305f444c2   \n",
       "\n",
       "   event_name  \n",
       "0           2  \n",
       "1           1  \n",
       "2           1  \n",
       "3           1  \n",
       "4           2  "
      ]
     },
     "execution_count": 5,
     "metadata": {},
     "output_type": "execute_result"
    }
   ],
   "source": [
    "# Create a new DF with only the columns we need\n",
    "df_matrix = df_combined_filtered.filter(['user_id','item_id','event_name'], axis=1)\n",
    "df_matrix.head()"
   ]
  },
  {
   "cell_type": "code",
   "execution_count": 6,
   "id": "c565d000",
   "metadata": {},
   "outputs": [],
   "source": [
    "# we only need highest event_name value \n",
    "# (there are some cases that for an uiser and item we have 3 records for each event_name value)\n",
    "df_matrix = df_matrix.sort_values(\"event_name\", ascending=False).drop_duplicates(['user_id','item_id'])"
   ]
  },
  {
   "cell_type": "code",
   "execution_count": 7,
   "id": "e677a3a8",
   "metadata": {},
   "outputs": [],
   "source": [
    "# reset indexes \n",
    "df_matrix = df_matrix.sample(frac=1).reset_index(drop=True)"
   ]
  },
  {
   "cell_type": "code",
   "execution_count": 8,
   "id": "db9da74a",
   "metadata": {},
   "outputs": [
    {
     "data": {
      "text/html": [
       "<div>\n",
       "<style scoped>\n",
       "    .dataframe tbody tr th:only-of-type {\n",
       "        vertical-align: middle;\n",
       "    }\n",
       "\n",
       "    .dataframe tbody tr th {\n",
       "        vertical-align: top;\n",
       "    }\n",
       "\n",
       "    .dataframe thead th {\n",
       "        text-align: right;\n",
       "    }\n",
       "</style>\n",
       "<table border=\"1\" class=\"dataframe\">\n",
       "  <thead>\n",
       "    <tr style=\"text-align: right;\">\n",
       "      <th></th>\n",
       "      <th>user_id</th>\n",
       "      <th>item_id</th>\n",
       "      <th>event_name</th>\n",
       "    </tr>\n",
       "  </thead>\n",
       "  <tbody>\n",
       "    <tr>\n",
       "      <th>0</th>\n",
       "      <td>1</td>\n",
       "      <td>80786dd9-3705-4b75-9544-2b3cbb669937</td>\n",
       "      <td>2</td>\n",
       "    </tr>\n",
       "    <tr>\n",
       "      <th>1</th>\n",
       "      <td>2</td>\n",
       "      <td>988f672b-8238-4872-8c6f-eeff15179ba0</td>\n",
       "      <td>2</td>\n",
       "    </tr>\n",
       "    <tr>\n",
       "      <th>2</th>\n",
       "      <td>3</td>\n",
       "      <td>66bed58d-05d6-4821-a621-dbdec9347f9f</td>\n",
       "      <td>1</td>\n",
       "    </tr>\n",
       "    <tr>\n",
       "      <th>3</th>\n",
       "      <td>4</td>\n",
       "      <td>53da424b-f9e0-4c3b-8936-1664a25051f4</td>\n",
       "      <td>2</td>\n",
       "    </tr>\n",
       "    <tr>\n",
       "      <th>4</th>\n",
       "      <td>5</td>\n",
       "      <td>e8e60f4d-e0f9-402b-8cfd-a9d971adfbc9</td>\n",
       "      <td>1</td>\n",
       "    </tr>\n",
       "    <tr>\n",
       "      <th>...</th>\n",
       "      <td>...</td>\n",
       "      <td>...</td>\n",
       "      <td>...</td>\n",
       "    </tr>\n",
       "    <tr>\n",
       "      <th>9340219</th>\n",
       "      <td>10567</td>\n",
       "      <td>75b098d0-3952-42aa-920e-56f3c943212d</td>\n",
       "      <td>3</td>\n",
       "    </tr>\n",
       "    <tr>\n",
       "      <th>9340220</th>\n",
       "      <td>61224</td>\n",
       "      <td>419d5caa-03ec-4850-aac0-b0cee0938af2</td>\n",
       "      <td>2</td>\n",
       "    </tr>\n",
       "    <tr>\n",
       "      <th>9340221</th>\n",
       "      <td>82364</td>\n",
       "      <td>672a6167-f404-44c4-83d4-9b77c60925ec</td>\n",
       "      <td>3</td>\n",
       "    </tr>\n",
       "    <tr>\n",
       "      <th>9340222</th>\n",
       "      <td>1889</td>\n",
       "      <td>7d2a0a74-cfa3-4253-9664-e046100fb5dd</td>\n",
       "      <td>3</td>\n",
       "    </tr>\n",
       "    <tr>\n",
       "      <th>9340223</th>\n",
       "      <td>221217</td>\n",
       "      <td>3fa7d87d-8dcd-4a4c-94bc-bf8e815546eb</td>\n",
       "      <td>1</td>\n",
       "    </tr>\n",
       "  </tbody>\n",
       "</table>\n",
       "<p>9340224 rows × 3 columns</p>\n",
       "</div>"
      ],
      "text/plain": [
       "         user_id                               item_id  event_name\n",
       "0              1  80786dd9-3705-4b75-9544-2b3cbb669937           2\n",
       "1              2  988f672b-8238-4872-8c6f-eeff15179ba0           2\n",
       "2              3  66bed58d-05d6-4821-a621-dbdec9347f9f           1\n",
       "3              4  53da424b-f9e0-4c3b-8936-1664a25051f4           2\n",
       "4              5  e8e60f4d-e0f9-402b-8cfd-a9d971adfbc9           1\n",
       "...          ...                                   ...         ...\n",
       "9340219    10567  75b098d0-3952-42aa-920e-56f3c943212d           3\n",
       "9340220    61224  419d5caa-03ec-4850-aac0-b0cee0938af2           2\n",
       "9340221    82364  672a6167-f404-44c4-83d4-9b77c60925ec           3\n",
       "9340222     1889  7d2a0a74-cfa3-4253-9664-e046100fb5dd           3\n",
       "9340223   221217  3fa7d87d-8dcd-4a4c-94bc-bf8e815546eb           1\n",
       "\n",
       "[9340224 rows x 3 columns]"
      ]
     },
     "execution_count": 8,
     "metadata": {},
     "output_type": "execute_result"
    }
   ],
   "source": [
    "# We extract the unique values from the user_id to a new variable\n",
    "users_unique = df_matrix.user_id.unique()\n",
    "# Assigning the users_unique to a dictionary\n",
    "users_dict = dict(enumerate(users_unique.flatten(), 1))\n",
    "# Same dictionary as above but with the keys and values inverted\n",
    "users_dict_inv = {v: k for k, v in users_dict.items()}\n",
    "# We assign the dictionary to our user_id column in the df_matrix\n",
    "df_matrix['user_id'] = df_matrix['user_id'].map(users_dict_inv)\n",
    "df_matrix"
   ]
  },
  {
   "cell_type": "code",
   "execution_count": 9,
   "id": "f6c7f147",
   "metadata": {},
   "outputs": [
    {
     "data": {
      "text/html": [
       "<div>\n",
       "<style scoped>\n",
       "    .dataframe tbody tr th:only-of-type {\n",
       "        vertical-align: middle;\n",
       "    }\n",
       "\n",
       "    .dataframe tbody tr th {\n",
       "        vertical-align: top;\n",
       "    }\n",
       "\n",
       "    .dataframe thead th {\n",
       "        text-align: right;\n",
       "    }\n",
       "</style>\n",
       "<table border=\"1\" class=\"dataframe\">\n",
       "  <thead>\n",
       "    <tr style=\"text-align: right;\">\n",
       "      <th></th>\n",
       "      <th>user_id</th>\n",
       "      <th>item_id</th>\n",
       "      <th>event_name</th>\n",
       "    </tr>\n",
       "  </thead>\n",
       "  <tbody>\n",
       "    <tr>\n",
       "      <th>0</th>\n",
       "      <td>1</td>\n",
       "      <td>1</td>\n",
       "      <td>2</td>\n",
       "    </tr>\n",
       "    <tr>\n",
       "      <th>1</th>\n",
       "      <td>2</td>\n",
       "      <td>2</td>\n",
       "      <td>2</td>\n",
       "    </tr>\n",
       "    <tr>\n",
       "      <th>2</th>\n",
       "      <td>3</td>\n",
       "      <td>3</td>\n",
       "      <td>1</td>\n",
       "    </tr>\n",
       "    <tr>\n",
       "      <th>3</th>\n",
       "      <td>4</td>\n",
       "      <td>4</td>\n",
       "      <td>2</td>\n",
       "    </tr>\n",
       "    <tr>\n",
       "      <th>4</th>\n",
       "      <td>5</td>\n",
       "      <td>5</td>\n",
       "      <td>1</td>\n",
       "    </tr>\n",
       "    <tr>\n",
       "      <th>...</th>\n",
       "      <td>...</td>\n",
       "      <td>...</td>\n",
       "      <td>...</td>\n",
       "    </tr>\n",
       "    <tr>\n",
       "      <th>9340219</th>\n",
       "      <td>10567</td>\n",
       "      <td>2272</td>\n",
       "      <td>3</td>\n",
       "    </tr>\n",
       "    <tr>\n",
       "      <th>9340220</th>\n",
       "      <td>61224</td>\n",
       "      <td>3380</td>\n",
       "      <td>2</td>\n",
       "    </tr>\n",
       "    <tr>\n",
       "      <th>9340221</th>\n",
       "      <td>82364</td>\n",
       "      <td>1815</td>\n",
       "      <td>3</td>\n",
       "    </tr>\n",
       "    <tr>\n",
       "      <th>9340222</th>\n",
       "      <td>1889</td>\n",
       "      <td>4144</td>\n",
       "      <td>3</td>\n",
       "    </tr>\n",
       "    <tr>\n",
       "      <th>9340223</th>\n",
       "      <td>221217</td>\n",
       "      <td>26662</td>\n",
       "      <td>1</td>\n",
       "    </tr>\n",
       "  </tbody>\n",
       "</table>\n",
       "<p>9340224 rows × 3 columns</p>\n",
       "</div>"
      ],
      "text/plain": [
       "         user_id  item_id  event_name\n",
       "0              1        1           2\n",
       "1              2        2           2\n",
       "2              3        3           1\n",
       "3              4        4           2\n",
       "4              5        5           1\n",
       "...          ...      ...         ...\n",
       "9340219    10567     2272           3\n",
       "9340220    61224     3380           2\n",
       "9340221    82364     1815           3\n",
       "9340222     1889     4144           3\n",
       "9340223   221217    26662           1\n",
       "\n",
       "[9340224 rows x 3 columns]"
      ]
     },
     "execution_count": 9,
     "metadata": {},
     "output_type": "execute_result"
    }
   ],
   "source": [
    "# We extract the unique values from the user_id to a new variable\n",
    "items_unique = df_matrix.item_id.unique()\n",
    "# Assigning the users_unique to a dictionary\n",
    "items_dict = dict(enumerate(items_unique.flatten(), 1))\n",
    "# Same dictionary as above but with the keys and values inverted\n",
    "items_dict_inv = {v: k for k, v in items_dict.items()}\n",
    "# We assign the dictionary to our user_id column in the df_matrix\n",
    "df_matrix['item_id'] = df_matrix['item_id'].map(items_dict_inv)\n",
    "df_matrix"
   ]
  },
  {
   "cell_type": "code",
   "execution_count": 10,
   "id": "228dadc2",
   "metadata": {},
   "outputs": [],
   "source": [
    "#create a data reader in scale of 1-3 of rating (min-max)\n",
    "reader = Reader(rating_scale=(1, 3))\n",
    "# generate data only with needed columns, event_name colums will be rating for Suprise\n",
    "data = Dataset.load_from_df(df_matrix[['user_id', 'item_id', 'event_name']], reader)"
   ]
  },
  {
   "cell_type": "code",
   "execution_count": 11,
   "id": "559f7225",
   "metadata": {},
   "outputs": [],
   "source": [
    "# event_name (rating)\n",
    "raw_ratings = data.raw_ratings"
   ]
  },
  {
   "cell_type": "code",
   "execution_count": 12,
   "id": "ab096acf",
   "metadata": {},
   "outputs": [],
   "source": [
    "# train with 90%\n",
    "# test set with 10%\n",
    "threshold = int(.9 * len(raw_ratings))\n",
    "A_raw_ratings = raw_ratings[:threshold]\n",
    "B_raw_ratings = raw_ratings[threshold:]\n",
    "data.raw_ratings = A_raw_ratings  # data is now the set A"
   ]
  },
  {
   "cell_type": "code",
   "execution_count": 14,
   "id": "a341ea0e",
   "metadata": {},
   "outputs": [],
   "source": [
    "# we have 3*3*3*2 combinations of model, later we will pick the best combination\n",
    "param_grid = {'n_factors': [5],\n",
    "              'n_epochs': [5],\n",
    "              'lr_all': [0.01],\n",
    "              'reg_all': [0.05],\n",
    "              'verbose': [True]}\n",
    "# initialize SVD algo\n",
    "grid_search = GridSearchCV(SVD, param_grid, measures=['rmse','mae'], cv=2)"
   ]
  },
  {
   "cell_type": "code",
   "execution_count": 15,
   "id": "ee5a4c55",
   "metadata": {},
   "outputs": [
    {
     "name": "stdout",
     "output_type": "stream",
     "text": [
      "Processing epoch 0\n",
      "Processing epoch 1\n",
      "Processing epoch 2\n",
      "Processing epoch 3\n",
      "Processing epoch 4\n",
      "Processing epoch 0\n",
      "Processing epoch 1\n",
      "Processing epoch 2\n",
      "Processing epoch 3\n",
      "Processing epoch 4\n"
     ]
    }
   ],
   "source": [
    "# fit\n",
    "grid_search.fit(data)"
   ]
  },
  {
   "cell_type": "code",
   "execution_count": 16,
   "id": "5ea5ea64",
   "metadata": {},
   "outputs": [
    {
     "data": {
      "text/plain": [
       "{'rmse': 0.660463717212572, 'mae': 0.554368173990127}"
      ]
     },
     "execution_count": 16,
     "metadata": {},
     "output_type": "execute_result"
    }
   ],
   "source": [
    "# get the best score\n",
    "grid_search.best_score"
   ]
  },
  {
   "cell_type": "code",
   "execution_count": 17,
   "id": "93b6e8b1",
   "metadata": {},
   "outputs": [
    {
     "data": {
      "text/plain": [
       "{'split0_test_rmse': array([0.66057558]),\n",
       " 'split1_test_rmse': array([0.66035185]),\n",
       " 'mean_test_rmse': array([0.66046372]),\n",
       " 'std_test_rmse': array([0.00011187]),\n",
       " 'rank_test_rmse': array([1]),\n",
       " 'split0_test_mae': array([0.55439299]),\n",
       " 'split1_test_mae': array([0.55434336]),\n",
       " 'mean_test_mae': array([0.55436817]),\n",
       " 'std_test_mae': array([2.48137127e-05]),\n",
       " 'rank_test_mae': array([1]),\n",
       " 'mean_fit_time': array([23.15863311]),\n",
       " 'std_fit_time': array([0.03759801]),\n",
       " 'mean_test_time': array([42.95196009]),\n",
       " 'std_test_time': array([0.00791597]),\n",
       " 'params': [{'n_factors': 5,\n",
       "   'n_epochs': 5,\n",
       "   'lr_all': 0.01,\n",
       "   'reg_all': 0.05,\n",
       "   'verbose': True}],\n",
       " 'param_n_factors': [5],\n",
       " 'param_n_epochs': [5],\n",
       " 'param_lr_all': [0.01],\n",
       " 'param_reg_all': [0.05],\n",
       " 'param_verbose': [True]}"
      ]
     },
     "execution_count": 17,
     "metadata": {},
     "output_type": "execute_result"
    }
   ],
   "source": [
    "# see results for each combination.\n",
    "grid_search.cv_results"
   ]
  },
  {
   "cell_type": "code",
   "execution_count": 18,
   "id": "f2bd6fd9",
   "metadata": {},
   "outputs": [],
   "source": [
    "# set the algorithm with best options (learning rate, epochs, reg_alls, nfactor)\n",
    "algo = grid_search.best_estimator['rmse']"
   ]
  },
  {
   "cell_type": "code",
   "execution_count": 19,
   "id": "025fc375",
   "metadata": {},
   "outputs": [
    {
     "name": "stdout",
     "output_type": "stream",
     "text": [
      "Processing epoch 0\n",
      "Processing epoch 1\n",
      "Processing epoch 2\n",
      "Processing epoch 3\n",
      "Processing epoch 4\n"
     ]
    },
    {
     "data": {
      "text/plain": [
       "<surprise.prediction_algorithms.matrix_factorization.SVD at 0x7f900b446730>"
      ]
     },
     "execution_count": 19,
     "metadata": {},
     "output_type": "execute_result"
    }
   ],
   "source": [
    "# retrain on the whole set A\n",
    "trainset = data.build_full_trainset()\n",
    "algo.fit(trainset)"
   ]
  },
  {
   "cell_type": "markdown",
   "id": "fe989dc3",
   "metadata": {},
   "source": [
    "### RMSE for traindata"
   ]
  },
  {
   "cell_type": "code",
   "execution_count": 20,
   "id": "fc80e784",
   "metadata": {},
   "outputs": [
    {
     "name": "stdout",
     "output_type": "stream",
     "text": [
      "Biased accuracy on A,   RMSE: 0.6471\n"
     ]
    },
    {
     "data": {
      "text/plain": [
       "0.6470847318322269"
      ]
     },
     "execution_count": 20,
     "metadata": {},
     "output_type": "execute_result"
    }
   ],
   "source": [
    "# Compute biased accuracy on A\n",
    "predictions = algo.test(trainset.build_testset())\n",
    "print('Biased accuracy on A,', end='   ')\n",
    "accuracy.rmse(predictions)"
   ]
  },
  {
   "cell_type": "markdown",
   "id": "161d185b",
   "metadata": {},
   "source": [
    "### RMSE for testdata"
   ]
  },
  {
   "cell_type": "code",
   "execution_count": 21,
   "id": "e090d988",
   "metadata": {},
   "outputs": [
    {
     "name": "stdout",
     "output_type": "stream",
     "text": [
      "Unbiased accuracy on B, RMSE: 0.6579\n"
     ]
    },
    {
     "data": {
      "text/plain": [
       "0.6578851487338951"
      ]
     },
     "execution_count": 21,
     "metadata": {},
     "output_type": "execute_result"
    }
   ],
   "source": [
    "# Compute unbiased accuracy on B\n",
    "testset = data.construct_testset(B_raw_ratings)  # testset is now the set B\n",
    "predictions_for_test = algo.test(testset)\n",
    "print('Unbiased accuracy on B,', end=' ')\n",
    "accuracy.rmse(predictions_for_test)"
   ]
  },
  {
   "cell_type": "code",
   "execution_count": 31,
   "id": "c5791e95",
   "metadata": {},
   "outputs": [],
   "source": [
    "# manually checking predictions for testset\n",
    "def get_prediction_for_index(id_prediction):\n",
    "    user = predictions_for_test[id_prediction][0]\n",
    "    item = predictions_for_test[id_prediction][1]\n",
    "    print('user_id:', users_dict[user], ' product_id: ', items_dict[item])\n",
    "    ratings = df_matrix.loc[(df_matrix['user_id'] == user) & (df_matrix['item_id'] == item)]\n",
    "    print('\\n')\n",
    "    print('Recommended Score: ',predictions_for_test[id_prediction][3])\n",
    "    print('User rating (from settest): ', ratings.event_name.values[0] )\n"
   ]
  },
  {
   "cell_type": "markdown",
   "id": "e77f9543",
   "metadata": {},
   "source": [
    "## Testing agains 10% (testset)"
   ]
  },
  {
   "cell_type": "code",
   "execution_count": 32,
   "id": "5c46d0cf",
   "metadata": {},
   "outputs": [
    {
     "name": "stdout",
     "output_type": "stream",
     "text": [
      "user_id: E6628FCB85BD411896243927671B5A91  product_id:  74b0ceab-93fa-4393-926d-d75bf6d7b9ec\n",
      "\n",
      "\n",
      "Recommended Score:  1.9722018596953674\n",
      "User rating (from settest):  2\n"
     ]
    }
   ],
   "source": [
    "get_prediction_for_index(6718)"
   ]
  },
  {
   "cell_type": "code",
   "execution_count": 33,
   "id": "7474ee11",
   "metadata": {},
   "outputs": [
    {
     "name": "stdout",
     "output_type": "stream",
     "text": [
      "user_id: ab16a0070adea5e8b10de7902d309c77  product_id:  b9ebe038-c068-4c4d-8b95-06581bff5dde\n",
      "\n",
      "\n",
      "Recommended Score:  2.2415990190866366\n",
      "User rating (from settest):  2\n"
     ]
    }
   ],
   "source": [
    "get_prediction_for_index(912379)"
   ]
  },
  {
   "cell_type": "code",
   "execution_count": 34,
   "id": "fa528448",
   "metadata": {},
   "outputs": [
    {
     "name": "stdout",
     "output_type": "stream",
     "text": [
      "user_id: a2a5effaf38a3e5b00b8dba649625198  product_id:  187e9f20-4112-4be0-a988-de7e314a0dcb\n",
      "\n",
      "\n",
      "Recommended Score:  1.4257712999658985\n",
      "User rating (from settest):  1\n"
     ]
    }
   ],
   "source": [
    "get_prediction_for_index(86123)"
   ]
  },
  {
   "cell_type": "code",
   "execution_count": 35,
   "id": "acd2c250",
   "metadata": {},
   "outputs": [
    {
     "name": "stdout",
     "output_type": "stream",
     "text": [
      "user_id: 4cbd457ebaca827fe5e9cba0b8bd6b60  product_id:  22e4e58d-60d5-41f9-be59-f453ccbf6902\n",
      "\n",
      "\n",
      "Recommended Score:  2.5437329453936823\n",
      "User rating (from settest):  3\n"
     ]
    }
   ],
   "source": [
    "get_prediction_for_index(12319)"
   ]
  },
  {
   "cell_type": "code",
   "execution_count": 36,
   "id": "d37d5e3a",
   "metadata": {},
   "outputs": [
    {
     "name": "stdout",
     "output_type": "stream",
     "text": [
      "user_id: ec35c05f2b000056c3e44c6e4cde1bb4  product_id:  39c363cb-31c6-4df7-b1f0-b21b41e02ae9\n",
      "\n",
      "\n",
      "Recommended Score:  2.446613930898492\n",
      "User rating (from settest):  3\n"
     ]
    }
   ],
   "source": [
    "get_prediction_for_index(8612)"
   ]
  },
  {
   "cell_type": "code",
   "execution_count": null,
   "id": "a7660c7c",
   "metadata": {},
   "outputs": [],
   "source": []
  }
 ],
 "metadata": {
  "kernelspec": {
   "display_name": "Python 3",
   "language": "python",
   "name": "python3"
  },
  "language_info": {
   "codemirror_mode": {
    "name": "ipython",
    "version": 3
   },
   "file_extension": ".py",
   "mimetype": "text/x-python",
   "name": "python",
   "nbconvert_exporter": "python",
   "pygments_lexer": "ipython3",
   "version": "3.8.8"
  }
 },
 "nbformat": 4,
 "nbformat_minor": 5
}
