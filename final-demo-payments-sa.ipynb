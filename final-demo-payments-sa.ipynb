{
 "cells": [
  {
   "cell_type": "code",
   "execution_count": 1,
   "id": "7d3d21b5",
   "metadata": {},
   "outputs": [],
   "source": [
    "# Import libraries\n",
    "import pandas as pd\n",
    "from surprise import prediction_algorithms, Reader, Dataset, accuracy, SVD\n",
    "from surprise.model_selection import train_test_split\n",
    "from surprise.model_selection import GridSearchCV\n",
    "from collections import defaultdict\n"
   ]
  },
  {
   "cell_type": "code",
   "execution_count": 2,
   "id": "97a5afbd",
   "metadata": {},
   "outputs": [],
   "source": [
    "# import CSV\n",
    "df_combined = pd.read_csv('../combined.csv', encoding='latin-1', low_memory=False)"
   ]
  },
  {
   "cell_type": "code",
   "execution_count": 3,
   "id": "8818671a",
   "metadata": {},
   "outputs": [],
   "source": [
    "# Filtering NaN from item_id column and removing event_name from event_name column\n",
    "df_combined_filtered = df_combined.drop(df_combined[df_combined.item_id.isnull()].index)\n",
    "df_combined_filtered = df_combined_filtered.drop(df_combined_filtered[df_combined_filtered.event_name == \"event_name\"].index)"
   ]
  },
  {
   "cell_type": "code",
   "execution_count": 4,
   "id": "6354b44a",
   "metadata": {},
   "outputs": [],
   "source": [
    "# Replacing events by assigned weight\n",
    "df_combined_filtered = df_combined_filtered.replace('view_item', 1)\n",
    "df_combined_filtered = df_combined_filtered.replace('add_to_cart', 2)\n",
    "df_combined_filtered = df_combined_filtered.replace('purchase', 3)"
   ]
  },
  {
   "cell_type": "code",
   "execution_count": 5,
   "id": "ff87806d",
   "metadata": {},
   "outputs": [
    {
     "data": {
      "text/html": [
       "<div>\n",
       "<style scoped>\n",
       "    .dataframe tbody tr th:only-of-type {\n",
       "        vertical-align: middle;\n",
       "    }\n",
       "\n",
       "    .dataframe tbody tr th {\n",
       "        vertical-align: top;\n",
       "    }\n",
       "\n",
       "    .dataframe thead th {\n",
       "        text-align: right;\n",
       "    }\n",
       "</style>\n",
       "<table border=\"1\" class=\"dataframe\">\n",
       "  <thead>\n",
       "    <tr style=\"text-align: right;\">\n",
       "      <th></th>\n",
       "      <th>user_id</th>\n",
       "      <th>item_id</th>\n",
       "      <th>event_name</th>\n",
       "    </tr>\n",
       "  </thead>\n",
       "  <tbody>\n",
       "    <tr>\n",
       "      <th>0</th>\n",
       "      <td>02FE33EE8FA641E8B0510FAAA737D927</td>\n",
       "      <td>505e396a-f4a0-46be-911f-809d29d7d3d6</td>\n",
       "      <td>2</td>\n",
       "    </tr>\n",
       "    <tr>\n",
       "      <th>1</th>\n",
       "      <td>1D9B56EB0D5347C586799CAC48397B5E</td>\n",
       "      <td>5459ae0d-ae4f-49fa-bd03-4a101f02b6a3</td>\n",
       "      <td>1</td>\n",
       "    </tr>\n",
       "    <tr>\n",
       "      <th>2</th>\n",
       "      <td>E8AE92144FB94FBA91C99DE513C6F910</td>\n",
       "      <td>494bc0b7-de10-428a-94f1-8a0da5161774</td>\n",
       "      <td>1</td>\n",
       "    </tr>\n",
       "    <tr>\n",
       "      <th>3</th>\n",
       "      <td>7F35FA4501F34494A9EC6B5BD77368F8</td>\n",
       "      <td>15adc2b9-0e7c-439b-a265-3f7ae703a82d</td>\n",
       "      <td>1</td>\n",
       "    </tr>\n",
       "    <tr>\n",
       "      <th>4</th>\n",
       "      <td>BA9567962ABE41EDBC7A7FF9476C80FB</td>\n",
       "      <td>00d0a735-79ad-4dad-b8f5-88e305f444c2</td>\n",
       "      <td>2</td>\n",
       "    </tr>\n",
       "  </tbody>\n",
       "</table>\n",
       "</div>"
      ],
      "text/plain": [
       "                            user_id                               item_id  \\\n",
       "0  02FE33EE8FA641E8B0510FAAA737D927  505e396a-f4a0-46be-911f-809d29d7d3d6   \n",
       "1  1D9B56EB0D5347C586799CAC48397B5E  5459ae0d-ae4f-49fa-bd03-4a101f02b6a3   \n",
       "2  E8AE92144FB94FBA91C99DE513C6F910  494bc0b7-de10-428a-94f1-8a0da5161774   \n",
       "3  7F35FA4501F34494A9EC6B5BD77368F8  15adc2b9-0e7c-439b-a265-3f7ae703a82d   \n",
       "4  BA9567962ABE41EDBC7A7FF9476C80FB  00d0a735-79ad-4dad-b8f5-88e305f444c2   \n",
       "\n",
       "   event_name  \n",
       "0           2  \n",
       "1           1  \n",
       "2           1  \n",
       "3           1  \n",
       "4           2  "
      ]
     },
     "execution_count": 5,
     "metadata": {},
     "output_type": "execute_result"
    }
   ],
   "source": [
    "# Create a new DF with only the columns we need\n",
    "df_matrix = df_combined_filtered.filter(['user_id','item_id','event_name'], axis=1)\n",
    "df_matrix.head()"
   ]
  },
  {
   "cell_type": "code",
   "execution_count": 6,
   "id": "c565d000",
   "metadata": {},
   "outputs": [],
   "source": [
    "# we only need highest event_name value \n",
    "# (there are some cases that for an uiser and item we have 3 records for each event_name value)\n",
    "df_matrix = df_matrix.sort_values(\"event_name\", ascending=False).drop_duplicates(['user_id','item_id'])"
   ]
  },
  {
   "cell_type": "code",
   "execution_count": 7,
   "id": "e677a3a8",
   "metadata": {},
   "outputs": [],
   "source": [
    "# reset indexes \n",
    "df_matrix = df_matrix.sample(frac=1).reset_index(drop=True)"
   ]
  },
  {
   "cell_type": "code",
   "execution_count": 8,
   "id": "db9da74a",
   "metadata": {},
   "outputs": [
    {
     "data": {
      "text/html": [
       "<div>\n",
       "<style scoped>\n",
       "    .dataframe tbody tr th:only-of-type {\n",
       "        vertical-align: middle;\n",
       "    }\n",
       "\n",
       "    .dataframe tbody tr th {\n",
       "        vertical-align: top;\n",
       "    }\n",
       "\n",
       "    .dataframe thead th {\n",
       "        text-align: right;\n",
       "    }\n",
       "</style>\n",
       "<table border=\"1\" class=\"dataframe\">\n",
       "  <thead>\n",
       "    <tr style=\"text-align: right;\">\n",
       "      <th></th>\n",
       "      <th>user_id</th>\n",
       "      <th>item_id</th>\n",
       "      <th>event_name</th>\n",
       "    </tr>\n",
       "  </thead>\n",
       "  <tbody>\n",
       "    <tr>\n",
       "      <th>0</th>\n",
       "      <td>1</td>\n",
       "      <td>57d552fd-043f-449e-94af-d0d6b98d0b70</td>\n",
       "      <td>1</td>\n",
       "    </tr>\n",
       "    <tr>\n",
       "      <th>1</th>\n",
       "      <td>2</td>\n",
       "      <td>41fa9bb7-27a9-4741-bd6d-b2c9da441d58</td>\n",
       "      <td>2</td>\n",
       "    </tr>\n",
       "    <tr>\n",
       "      <th>2</th>\n",
       "      <td>3</td>\n",
       "      <td>57533f59-9589-4ccc-b549-d2424e938119</td>\n",
       "      <td>2</td>\n",
       "    </tr>\n",
       "    <tr>\n",
       "      <th>3</th>\n",
       "      <td>4</td>\n",
       "      <td>2ce8cf90-d41c-4bdc-9265-c9e530040f84</td>\n",
       "      <td>3</td>\n",
       "    </tr>\n",
       "    <tr>\n",
       "      <th>4</th>\n",
       "      <td>5</td>\n",
       "      <td>615bfb32-bd81-4bda-9d7e-e234e51162db</td>\n",
       "      <td>2</td>\n",
       "    </tr>\n",
       "    <tr>\n",
       "      <th>...</th>\n",
       "      <td>...</td>\n",
       "      <td>...</td>\n",
       "      <td>...</td>\n",
       "    </tr>\n",
       "    <tr>\n",
       "      <th>9340219</th>\n",
       "      <td>287265</td>\n",
       "      <td>ded6f1c6-da60-48d5-b083-37c019623395</td>\n",
       "      <td>2</td>\n",
       "    </tr>\n",
       "    <tr>\n",
       "      <th>9340220</th>\n",
       "      <td>115733</td>\n",
       "      <td>3f5bd747-60a0-484f-b757-8953048dda2e</td>\n",
       "      <td>3</td>\n",
       "    </tr>\n",
       "    <tr>\n",
       "      <th>9340221</th>\n",
       "      <td>52428</td>\n",
       "      <td>e559647d-635d-4545-9a50-cad7a0b17239</td>\n",
       "      <td>3</td>\n",
       "    </tr>\n",
       "    <tr>\n",
       "      <th>9340222</th>\n",
       "      <td>112493</td>\n",
       "      <td>bbf04a5f-c814-4d8b-a5da-6db35e70a6dd</td>\n",
       "      <td>3</td>\n",
       "    </tr>\n",
       "    <tr>\n",
       "      <th>9340223</th>\n",
       "      <td>76186</td>\n",
       "      <td>ecdab097-ca9d-4ed5-995e-38322192f4c2</td>\n",
       "      <td>1</td>\n",
       "    </tr>\n",
       "  </tbody>\n",
       "</table>\n",
       "<p>9340224 rows × 3 columns</p>\n",
       "</div>"
      ],
      "text/plain": [
       "         user_id                               item_id  event_name\n",
       "0              1  57d552fd-043f-449e-94af-d0d6b98d0b70           1\n",
       "1              2  41fa9bb7-27a9-4741-bd6d-b2c9da441d58           2\n",
       "2              3  57533f59-9589-4ccc-b549-d2424e938119           2\n",
       "3              4  2ce8cf90-d41c-4bdc-9265-c9e530040f84           3\n",
       "4              5  615bfb32-bd81-4bda-9d7e-e234e51162db           2\n",
       "...          ...                                   ...         ...\n",
       "9340219   287265  ded6f1c6-da60-48d5-b083-37c019623395           2\n",
       "9340220   115733  3f5bd747-60a0-484f-b757-8953048dda2e           3\n",
       "9340221    52428  e559647d-635d-4545-9a50-cad7a0b17239           3\n",
       "9340222   112493  bbf04a5f-c814-4d8b-a5da-6db35e70a6dd           3\n",
       "9340223    76186  ecdab097-ca9d-4ed5-995e-38322192f4c2           1\n",
       "\n",
       "[9340224 rows x 3 columns]"
      ]
     },
     "execution_count": 8,
     "metadata": {},
     "output_type": "execute_result"
    }
   ],
   "source": [
    "# We extract the unique values from the user_id to a new variable\n",
    "users_unique = df_matrix.user_id.unique()\n",
    "# Assigning the users_unique to a dictionary\n",
    "users_dict = dict(enumerate(users_unique.flatten(), 1))\n",
    "# Same dictionary as above but with the keys and values inverted\n",
    "users_dict_inv = {v: k for k, v in users_dict.items()}\n",
    "# We assign the dictionary to our user_id column in the df_matrix\n",
    "df_matrix['user_id'] = df_matrix['user_id'].map(users_dict_inv)\n",
    "df_matrix"
   ]
  },
  {
   "cell_type": "code",
   "execution_count": 9,
   "id": "f6c7f147",
   "metadata": {},
   "outputs": [
    {
     "data": {
      "text/html": [
       "<div>\n",
       "<style scoped>\n",
       "    .dataframe tbody tr th:only-of-type {\n",
       "        vertical-align: middle;\n",
       "    }\n",
       "\n",
       "    .dataframe tbody tr th {\n",
       "        vertical-align: top;\n",
       "    }\n",
       "\n",
       "    .dataframe thead th {\n",
       "        text-align: right;\n",
       "    }\n",
       "</style>\n",
       "<table border=\"1\" class=\"dataframe\">\n",
       "  <thead>\n",
       "    <tr style=\"text-align: right;\">\n",
       "      <th></th>\n",
       "      <th>user_id</th>\n",
       "      <th>item_id</th>\n",
       "      <th>event_name</th>\n",
       "    </tr>\n",
       "  </thead>\n",
       "  <tbody>\n",
       "    <tr>\n",
       "      <th>0</th>\n",
       "      <td>1</td>\n",
       "      <td>1</td>\n",
       "      <td>1</td>\n",
       "    </tr>\n",
       "    <tr>\n",
       "      <th>1</th>\n",
       "      <td>2</td>\n",
       "      <td>2</td>\n",
       "      <td>2</td>\n",
       "    </tr>\n",
       "    <tr>\n",
       "      <th>2</th>\n",
       "      <td>3</td>\n",
       "      <td>3</td>\n",
       "      <td>2</td>\n",
       "    </tr>\n",
       "    <tr>\n",
       "      <th>3</th>\n",
       "      <td>4</td>\n",
       "      <td>4</td>\n",
       "      <td>3</td>\n",
       "    </tr>\n",
       "    <tr>\n",
       "      <th>4</th>\n",
       "      <td>5</td>\n",
       "      <td>5</td>\n",
       "      <td>2</td>\n",
       "    </tr>\n",
       "    <tr>\n",
       "      <th>...</th>\n",
       "      <td>...</td>\n",
       "      <td>...</td>\n",
       "      <td>...</td>\n",
       "    </tr>\n",
       "    <tr>\n",
       "      <th>9340219</th>\n",
       "      <td>287265</td>\n",
       "      <td>3592</td>\n",
       "      <td>2</td>\n",
       "    </tr>\n",
       "    <tr>\n",
       "      <th>9340220</th>\n",
       "      <td>115733</td>\n",
       "      <td>14565</td>\n",
       "      <td>3</td>\n",
       "    </tr>\n",
       "    <tr>\n",
       "      <th>9340221</th>\n",
       "      <td>52428</td>\n",
       "      <td>1831</td>\n",
       "      <td>3</td>\n",
       "    </tr>\n",
       "    <tr>\n",
       "      <th>9340222</th>\n",
       "      <td>112493</td>\n",
       "      <td>316</td>\n",
       "      <td>3</td>\n",
       "    </tr>\n",
       "    <tr>\n",
       "      <th>9340223</th>\n",
       "      <td>76186</td>\n",
       "      <td>13752</td>\n",
       "      <td>1</td>\n",
       "    </tr>\n",
       "  </tbody>\n",
       "</table>\n",
       "<p>9340224 rows × 3 columns</p>\n",
       "</div>"
      ],
      "text/plain": [
       "         user_id  item_id  event_name\n",
       "0              1        1           1\n",
       "1              2        2           2\n",
       "2              3        3           2\n",
       "3              4        4           3\n",
       "4              5        5           2\n",
       "...          ...      ...         ...\n",
       "9340219   287265     3592           2\n",
       "9340220   115733    14565           3\n",
       "9340221    52428     1831           3\n",
       "9340222   112493      316           3\n",
       "9340223    76186    13752           1\n",
       "\n",
       "[9340224 rows x 3 columns]"
      ]
     },
     "execution_count": 9,
     "metadata": {},
     "output_type": "execute_result"
    }
   ],
   "source": [
    "# We extract the unique values from the user_id to a new variable\n",
    "items_unique = df_matrix.item_id.unique()\n",
    "# Assigning the users_unique to a dictionary\n",
    "items_dict = dict(enumerate(items_unique.flatten(), 1))\n",
    "# Same dictionary as above but with the keys and values inverted\n",
    "items_dict_inv = {v: k for k, v in items_dict.items()}\n",
    "# We assign the dictionary to our user_id column in the df_matrix\n",
    "df_matrix['item_id'] = df_matrix['item_id'].map(items_dict_inv)\n",
    "df_matrix"
   ]
  },
  {
   "cell_type": "code",
   "execution_count": 10,
   "id": "228dadc2",
   "metadata": {},
   "outputs": [],
   "source": [
    "#create a data reader in scale of 1-3 of rating (min-max)\n",
    "reader = Reader(rating_scale=(1, 3))\n",
    "# generate data only with needed columns, event_name colums will be rating for Suprise\n",
    "data = Dataset.load_from_df(df_matrix[['user_id', 'item_id', 'event_name']], reader)"
   ]
  },
  {
   "cell_type": "code",
   "execution_count": 11,
   "id": "559f7225",
   "metadata": {},
   "outputs": [],
   "source": [
    "# event_name (rating)\n",
    "raw_ratings = data.raw_ratings"
   ]
  },
  {
   "cell_type": "code",
   "execution_count": 12,
   "id": "ab096acf",
   "metadata": {},
   "outputs": [],
   "source": [
    "# train with 90%\n",
    "# test set with 10%\n",
    "threshold = int(.9 * len(raw_ratings))\n",
    "A_raw_ratings = raw_ratings[:threshold]\n",
    "B_raw_ratings = raw_ratings[threshold:]\n",
    "data.raw_ratings = A_raw_ratings  # data is now the set A"
   ]
  },
  {
   "cell_type": "code",
   "execution_count": 13,
   "id": "a341ea0e",
   "metadata": {},
   "outputs": [],
   "source": [
    "# we have 3*3*3*2 combinations of model, later we will pick the best combination\n",
    "param_grid = {'n_factors': [5],\n",
    "              'n_epochs': [5],\n",
    "              'lr_all': [0.01],\n",
    "              'reg_all': [0.05],\n",
    "              'verbose': [True]}\n",
    "# initialize SVD algo\n",
    "grid_search = GridSearchCV(SVD, param_grid, measures=['rmse','mae'], cv=2)"
   ]
  },
  {
   "cell_type": "code",
   "execution_count": 14,
   "id": "ee5a4c55",
   "metadata": {},
   "outputs": [
    {
     "name": "stdout",
     "output_type": "stream",
     "text": [
      "Processing epoch 0\n",
      "Processing epoch 1\n",
      "Processing epoch 2\n",
      "Processing epoch 3\n",
      "Processing epoch 4\n",
      "Processing epoch 0\n",
      "Processing epoch 1\n",
      "Processing epoch 2\n",
      "Processing epoch 3\n",
      "Processing epoch 4\n"
     ]
    }
   ],
   "source": [
    "# fit\n",
    "grid_search.fit(data)"
   ]
  },
  {
   "cell_type": "code",
   "execution_count": 15,
   "id": "5ea5ea64",
   "metadata": {},
   "outputs": [
    {
     "data": {
      "text/plain": [
       "{'rmse': 0.6605484516177441, 'mae': 0.5545457289133329}"
      ]
     },
     "execution_count": 15,
     "metadata": {},
     "output_type": "execute_result"
    }
   ],
   "source": [
    "# get the best score\n",
    "grid_search.best_score"
   ]
  },
  {
   "cell_type": "code",
   "execution_count": 16,
   "id": "93b6e8b1",
   "metadata": {},
   "outputs": [
    {
     "data": {
      "text/plain": [
       "{'split0_test_rmse': array([0.66069653]),\n",
       " 'split1_test_rmse': array([0.66040038]),\n",
       " 'mean_test_rmse': array([0.66054845]),\n",
       " 'std_test_rmse': array([0.00014807]),\n",
       " 'rank_test_rmse': array([1]),\n",
       " 'split0_test_mae': array([0.55462998]),\n",
       " 'split1_test_mae': array([0.55446148]),\n",
       " 'mean_test_mae': array([0.55454573]),\n",
       " 'std_test_mae': array([8.42484046e-05]),\n",
       " 'rank_test_mae': array([1]),\n",
       " 'mean_fit_time': array([24.5442791]),\n",
       " 'std_fit_time': array([0.14565611]),\n",
       " 'mean_test_time': array([44.7590735]),\n",
       " 'std_test_time': array([0.33422256]),\n",
       " 'params': [{'n_factors': 5,\n",
       "   'n_epochs': 5,\n",
       "   'lr_all': 0.01,\n",
       "   'reg_all': 0.05,\n",
       "   'verbose': True}],\n",
       " 'param_n_factors': [5],\n",
       " 'param_n_epochs': [5],\n",
       " 'param_lr_all': [0.01],\n",
       " 'param_reg_all': [0.05],\n",
       " 'param_verbose': [True]}"
      ]
     },
     "execution_count": 16,
     "metadata": {},
     "output_type": "execute_result"
    }
   ],
   "source": [
    "# see results for each combination.\n",
    "grid_search.cv_results"
   ]
  },
  {
   "cell_type": "code",
   "execution_count": 17,
   "id": "f2bd6fd9",
   "metadata": {},
   "outputs": [],
   "source": [
    "# set the algorithm with best options (learning rate, epochs, reg_alls, nfactor)\n",
    "algo = grid_search.best_estimator['rmse']"
   ]
  },
  {
   "cell_type": "code",
   "execution_count": 18,
   "id": "025fc375",
   "metadata": {},
   "outputs": [
    {
     "name": "stdout",
     "output_type": "stream",
     "text": [
      "Processing epoch 0\n",
      "Processing epoch 1\n",
      "Processing epoch 2\n",
      "Processing epoch 3\n",
      "Processing epoch 4\n"
     ]
    },
    {
     "data": {
      "text/plain": [
       "<surprise.prediction_algorithms.matrix_factorization.SVD at 0x7fb1d4fee070>"
      ]
     },
     "execution_count": 18,
     "metadata": {},
     "output_type": "execute_result"
    }
   ],
   "source": [
    "# retrain on the whole set A\n",
    "trainset = data.build_full_trainset()\n",
    "algo.fit(trainset)"
   ]
  },
  {
   "cell_type": "markdown",
   "id": "fe989dc3",
   "metadata": {},
   "source": [
    "### RMSE for traindata"
   ]
  },
  {
   "cell_type": "code",
   "execution_count": 19,
   "id": "fc80e784",
   "metadata": {},
   "outputs": [
    {
     "name": "stdout",
     "output_type": "stream",
     "text": [
      "Biased accuracy on A,   RMSE: 0.6472\n"
     ]
    },
    {
     "data": {
      "text/plain": [
       "0.6471911263125557"
      ]
     },
     "execution_count": 19,
     "metadata": {},
     "output_type": "execute_result"
    }
   ],
   "source": [
    "# Compute biased accuracy on A\n",
    "predictions = algo.test(trainset.build_testset())\n",
    "print('Biased accuracy on A,', end='   ')\n",
    "accuracy.rmse(predictions)"
   ]
  },
  {
   "cell_type": "markdown",
   "id": "161d185b",
   "metadata": {},
   "source": [
    "### RMSE for testdata"
   ]
  },
  {
   "cell_type": "code",
   "execution_count": 20,
   "id": "e090d988",
   "metadata": {},
   "outputs": [
    {
     "name": "stdout",
     "output_type": "stream",
     "text": [
      "Unbiased accuracy on B, RMSE: 0.6584\n"
     ]
    },
    {
     "data": {
      "text/plain": [
       "0.6584451700028027"
      ]
     },
     "execution_count": 20,
     "metadata": {},
     "output_type": "execute_result"
    }
   ],
   "source": [
    "# Compute unbiased accuracy on B\n",
    "testset = data.construct_testset(B_raw_ratings)  # testset is now the set B\n",
    "predictions_for_test = algo.test(testset)\n",
    "print('Unbiased accuracy on B,', end=' ')\n",
    "accuracy.rmse(predictions_for_test)"
   ]
  },
  {
   "cell_type": "code",
   "execution_count": 21,
   "id": "c5791e95",
   "metadata": {},
   "outputs": [],
   "source": [
    "# manually checking predictions for testset\n",
    "def get_prediction_for_index(id_prediction):\n",
    "    user = predictions_for_test[id_prediction][0]\n",
    "    item = predictions_for_test[id_prediction][1]\n",
    "    print('user_id:', users_dict[user], ' product_id: ', items_dict[item])\n",
    "    ratings = df_matrix.loc[(df_matrix['user_id'] == user) & (df_matrix['item_id'] == item)]\n",
    "    print('\\n')\n",
    "    print('Recommended Score: ',predictions_for_test[id_prediction][3])\n",
    "    print('User rating (from settest): ', ratings.event_name.values[0] )\n"
   ]
  },
  {
   "cell_type": "code",
   "execution_count": 22,
   "id": "fe7708d9",
   "metadata": {},
   "outputs": [],
   "source": [
    "# get top recommendations by each user\n",
    "def get_top_n(predictions, n=10):\n",
    "    # First map the predictions to each user.\n",
    "    top_n = defaultdict(list)\n",
    "    for uid, iid, true_r, est, _ in predictions:\n",
    "        top_n[uid].append((iid, est))\n",
    "\n",
    "    # Then sort the predictions for each user and retrieve the k highest ones.\n",
    "    for uid, user_ratings in top_n.items():\n",
    "        user_ratings.sort(key=lambda x: x[1], reverse=True)\n",
    "        top_n[uid] = user_ratings[:n]\n",
    "    return top_n"
   ]
  },
  {
   "cell_type": "code",
   "execution_count": 23,
   "id": "f6d6e827",
   "metadata": {},
   "outputs": [],
   "source": [
    "top_n = get_top_n(predictions_for_test)"
   ]
  },
  {
   "cell_type": "code",
   "execution_count": 24,
   "id": "d6602053",
   "metadata": {},
   "outputs": [],
   "source": [
    "def get_user_top_n(user):\n",
    "    user_id = users_dict_inv[user]\n",
    "    top = top_n[user_id]\n",
    "    new_list = []\n",
    "    for idx, val in enumerate(top):\n",
    "        item_id = items_dict[val[0]]\n",
    "        new_list.append((item_id, val[1]))\n",
    "    return new_list"
   ]
  },
  {
   "cell_type": "code",
   "execution_count": 52,
   "id": "7b46429f",
   "metadata": {},
   "outputs": [],
   "source": [
    "# Return precision and recall at k metrics for each user\n",
    "def precision_recall_at_k(predictions, k = 15, threshold = 3):\n",
    "    \n",
    "    # First map the predictions to each user.\n",
    "    user_est_true = defaultdict(list)\n",
    "    for uid, _, true_r, est, _ in predictions:\n",
    "        user_est_true[uid].append((est, true_r))\n",
    "    \n",
    "    precisions = dict()\n",
    "    recalls = dict()\n",
    "    for uid, user_ratings in user_est_true.items():\n",
    "        \n",
    "        # Sort user ratings by estimated value\n",
    "        user_ratings.sort(key=lambda x: x[0], reverse=True)\n",
    "        \n",
    "        # Number of relevant items\n",
    "        n_rel = sum((true_r >= threshold) for (_, true_r) in user_ratings)\n",
    "        \n",
    "        # Number of recommended items in top k\n",
    "        n_rec_k = sum((est >= threshold) for (est, _) in user_ratings[:k])\n",
    "        \n",
    "        # Number of relevant and recommended items in top k\n",
    "        n_rel_and_rec_k = sum(((true_r >= threshold) and (est >= threshold)) for (est, true_r) in user_ratings[:k])\n",
    "        \n",
    "        # Precision@K: Proportion of recommended items that are relevant\n",
    "        precisions[uid] = n_rel_and_rec_k / n_rec_k if n_rec_k != 0 else 1\n",
    "        \n",
    "        # Recall@K: Proportion of relevant items that are recommended\n",
    "        recalls[uid] = n_rel_and_rec_k / n_rel if n_rel != 0 else 1\n",
    "    \n",
    "    return precisions, recalls;"
   ]
  },
  {
   "cell_type": "markdown",
   "id": "41b891a0",
   "metadata": {},
   "source": [
    "## Recall and Precision"
   ]
  },
  {
   "cell_type": "code",
   "execution_count": 59,
   "id": "49b23af0",
   "metadata": {},
   "outputs": [
    {
     "data": {
      "text/plain": [
       "0.934766635971483"
      ]
     },
     "execution_count": 59,
     "metadata": {},
     "output_type": "execute_result"
    }
   ],
   "source": [
    "precisions, recalls = precision_recall_at_k(predictions_for_test, k = 20, threshold = 2)\n",
    "precision = sum(prec for prec in precisions.values()) / len(precisions)\n",
    "precision"
   ]
  },
  {
   "cell_type": "code",
   "execution_count": 60,
   "id": "50fdc107",
   "metadata": {},
   "outputs": [
    {
     "data": {
      "text/plain": [
       "0.681918040356784"
      ]
     },
     "execution_count": 60,
     "metadata": {},
     "output_type": "execute_result"
    }
   ],
   "source": [
    "recall = sum(rec for rec in recalls.values()) / len(recalls)\n",
    "recall"
   ]
  },
  {
   "cell_type": "code",
   "execution_count": null,
   "id": "c2111683",
   "metadata": {},
   "outputs": [],
   "source": []
  },
  {
   "cell_type": "code",
   "execution_count": 44,
   "id": "5c46d0cf",
   "metadata": {},
   "outputs": [
    {
     "name": "stdout",
     "output_type": "stream",
     "text": [
      "user_id: BAD094451BEE4D159F86FC150FF9728B  product_id:  9e096825-4f3c-4273-bfea-116164b7691a\n",
      "\n",
      "\n",
      "Recommended Score:  1.6270987824413818\n",
      "User rating (from settest):  2\n"
     ]
    }
   ],
   "source": [
    "get_prediction_for_index(6718)"
   ]
  },
  {
   "cell_type": "code",
   "execution_count": 45,
   "id": "7474ee11",
   "metadata": {},
   "outputs": [
    {
     "name": "stdout",
     "output_type": "stream",
     "text": [
      "user_id: 18A564B8B3604A33ABCE71153787A4BE  product_id:  8f9fb479-af05-45dc-b81e-d76ae8274b30\n",
      "\n",
      "\n",
      "Recommended Score:  2.5931078259921505\n",
      "User rating (from settest):  3\n"
     ]
    }
   ],
   "source": [
    "get_prediction_for_index(912379)"
   ]
  },
  {
   "cell_type": "code",
   "execution_count": 46,
   "id": "fa528448",
   "metadata": {},
   "outputs": [
    {
     "name": "stdout",
     "output_type": "stream",
     "text": [
      "user_id: E15E6143272D4D778C87782CD83B0E20  product_id:  d3602fe3-829e-41a6-a06a-1eb4964d1eb1\n",
      "\n",
      "\n",
      "Recommended Score:  1.4817500375522719\n",
      "User rating (from settest):  3\n"
     ]
    }
   ],
   "source": [
    "get_prediction_for_index(86123)"
   ]
  },
  {
   "cell_type": "code",
   "execution_count": 47,
   "id": "acd2c250",
   "metadata": {},
   "outputs": [
    {
     "name": "stdout",
     "output_type": "stream",
     "text": [
      "user_id: 6d9a6646a8e5b77a4ea8232c863d3bd3  product_id:  cb55c1de-6f0e-44d5-85a5-61041f6063df\n",
      "\n",
      "\n",
      "Recommended Score:  2.2090904958027777\n",
      "User rating (from settest):  2\n"
     ]
    }
   ],
   "source": [
    "get_prediction_for_index(12319)"
   ]
  },
  {
   "cell_type": "code",
   "execution_count": 48,
   "id": "d37d5e3a",
   "metadata": {},
   "outputs": [
    {
     "name": "stdout",
     "output_type": "stream",
     "text": [
      "user_id: daf2d2862ead2e24eeeee3a017a6eb95  product_id:  eeb38d9d-5fb6-4927-b66d-8b8b7487a722\n",
      "\n",
      "\n",
      "Recommended Score:  2.107171162838111\n",
      "User rating (from settest):  2\n"
     ]
    }
   ],
   "source": [
    "get_prediction_for_index(8612)"
   ]
  },
  {
   "cell_type": "markdown",
   "id": "af237085",
   "metadata": {},
   "source": [
    "## testing by user id\n",
    "#### this will get top of reccomendations for a given user"
   ]
  },
  {
   "cell_type": "code",
   "execution_count": 51,
   "id": "43a48ec3",
   "metadata": {},
   "outputs": [
    {
     "data": {
      "text/plain": [
       "[('89eef3ca-786d-41eb-ad8c-b7b0613f32c7', 2.356930416142695),\n",
       " ('67220e57-17fd-40f4-8d31-40e7fe348622', 2.228293225402106),\n",
       " ('017be44f-ffbc-44dd-951f-2abc929c27ff', 2.2278075898308622),\n",
       " ('cb55c1de-6f0e-44d5-85a5-61041f6063df', 2.2090904958027777),\n",
       " ('13a46f60-6e5b-4da3-ac1b-2223b63da305', 2.194459578002611)]"
      ]
     },
     "execution_count": 51,
     "metadata": {},
     "output_type": "execute_result"
    }
   ],
   "source": [
    "get_user_top_n('enter user id above')"
   ]
  },
  {
   "cell_type": "code",
   "execution_count": 52,
   "id": "49c184c9",
   "metadata": {},
   "outputs": [
    {
     "data": {
      "text/plain": [
       "[('0f4a329f-ee1d-495e-bd49-6d57e41da1c2', 2.397619920982559),\n",
       " ('6a9525b8-23c8-40f2-80e8-3f9e7c75f605', 2.371654305239083),\n",
       " ('9a433a53-d489-4bff-abe2-2cc611d00d3e', 2.294907019489244),\n",
       " ('641dec60-82d4-48c6-a1be-82593c73ebe3', 2.272811685435234),\n",
       " ('2bbc897c-368b-4615-9f76-48a871806172', 2.2272181433378138),\n",
       " ('eeb38d9d-5fb6-4927-b66d-8b8b7487a722', 2.107171162838111),\n",
       " ('44bfa1d5-b6bc-4917-b899-72460a3d9dd4', 2.0930094440031004),\n",
       " ('8662b085-511f-4ae1-a4ef-063ebf5c5b98', 2.082354121965674),\n",
       " ('148f9a23-082a-4fbf-9c5b-4f53c86931c6', 1.9933496013479801),\n",
       " ('b2166d46-d0b2-4c04-bae0-6eacc62128f1', 1.8972737689258985)]"
      ]
     },
     "execution_count": 52,
     "metadata": {},
     "output_type": "execute_result"
    }
   ],
   "source": [
    "get_user_top_n('enter user id above')"
   ]
  },
  {
   "cell_type": "code",
   "execution_count": null,
   "id": "1c51a928",
   "metadata": {},
   "outputs": [],
   "source": []
  }
 ],
 "metadata": {
  "kernelspec": {
   "display_name": "Python 3",
   "language": "python",
   "name": "python3"
  },
  "language_info": {
   "codemirror_mode": {
    "name": "ipython",
    "version": 3
   },
   "file_extension": ".py",
   "mimetype": "text/x-python",
   "name": "python",
   "nbconvert_exporter": "python",
   "pygments_lexer": "ipython3",
   "version": "3.8.8"
  }
 },
 "nbformat": 4,
 "nbformat_minor": 5
}
